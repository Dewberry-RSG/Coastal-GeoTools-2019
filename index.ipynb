{
 "cells": [
  {
   "cell_type": "markdown",
   "metadata": {
    "ExecuteTime": {
     "end_time": "2019-02-04T12:42:31.967645Z",
     "start_time": "2019-02-04T12:42:31.930546Z"
    },
    "slideshow": {
     "slide_type": "slide"
    }
   },
   "source": [
    "# Jupyter Notebooks: The Right Tech at the Right Time\n",
    "\n",
    "\n",
    "### [Coastal Geotools](https://coastalgeotools.org/)\n",
    "\n",
    "#### February 13, 2019\n",
    "---\n",
    "\n",
    "<center>\n",
    "    <img src=\"images/dewberry.png\" width=\"40%\" align=\"center\">\n",
    "    <img src=\"images/250px-Jupyter_logo.svg.png\" width=\"10%\" align=\"center\">\n",
    "    \n",
    "    <br><br><br>\n",
    "</center>\n",
    "\n",
    "---\n",
    "\n",
    "\n",
    "<a href=\"mailto:slawler@dewberry.com\">Seth Lawler</a><br> \n",
    "<a href=\"mailto:jgangai@dewberry.com\">Jeff Gangai</a><br> \n",
    "<a href=\"mailto:tmiesse@dewberry.com\">Tyler Miesse</a><br> \n"
   ]
  },
  {
   "cell_type": "markdown",
   "metadata": {
    "slideshow": {
     "slide_type": "slide"
    }
   },
   "source": [
    "\n",
    "<img src=\"images/dewberry.png\" width=\"15%\" align=\"right\">\n",
    "\n",
    "# Introduction & Background\n",
    "\n",
    "\n",
    "---\n",
    "\n",
    "## [Hurricane Harvey](http://www.govtech.com/em/preparedness/Partners-Help-Houston-with-Data-Analytics-Assessments-of-Unmet-Needs-After-Hurricane-Harvey.html) : Using Open Source tools to hindcast the storm.\n",
    "\n",
    "---\n",
    "\n",
    " <center>\n",
    "    <img src=\"images/data_analytics.png\" width=\"50%\" align=\"center\">\n",
    "</center>"
   ]
  },
  {
   "cell_type": "markdown",
   "metadata": {
    "slideshow": {
     "slide_type": "slide"
    }
   },
   "source": [
    "\n",
    "<img src=\"images/dewberry.png\" width=\"15%\" align=\"right\">\n",
    "\n",
    "# Storm Surge Production Runs \n",
    "\n",
    "---\n",
    "\n",
    "## How [Netflix](https://netflix.github.io/) improves our abilities on __Desktop__ and the __HPC__\n",
    "\n",
    "---\n",
    "\n",
    "<center>\n",
    "    <img src=\"images/netflix.png\" width=\"50%\" align=\"center\">\n",
    "</center>\n",
    "\n",
    "### [The Medium](https://medium.com/netflix-techblog/notebook-innovation-591ee3221233)"
   ]
  },
  {
   "cell_type": "markdown",
   "metadata": {
    "slideshow": {
     "slide_type": "slide"
    }
   },
   "source": [
    "\n",
    "<img src=\"images/dewberry.png\" width=\"15%\" align=\"right\">\n",
    "\n",
    "\n",
    "### Do we even need [Open Source Software](https://www.osgeo.org/) with all of the money we spend on  proprietary tools? \n",
    " \n",
    " ---\n",
    " \n",
    " <center>\n",
    "    <img src=\"images/python_swiss_army.png\" width=\"35%\" align=\"center\">\n",
    "</center>\n",
    "\n",
    "### *Looks like you were right. Can’t use field calculator to do what I’m trying to do. I’ll be writing a Python script.*\n",
    " [Bill Dolins](http://blog.geomusings.com/2011/05/25/piling-on-about-python)"
   ]
  },
  {
   "cell_type": "markdown",
   "metadata": {
    "slideshow": {
     "slide_type": "slide"
    }
   },
   "source": [
    " \n",
    "<img src=\"images/dewberry.png\" width=\"15%\" align=\"right\">\n",
    " \n",
    " ### Why do we need [__GIT__](https://github.com)...we already have version control system in place?\n",
    " \n",
    " ---\n",
    " \n",
    " <center>\n",
    "    <img src=\"images/version_control.png\" width=\"90%\" align=\"center\">\n",
    "</center>"
   ]
  },
  {
   "cell_type": "markdown",
   "metadata": {
    "slideshow": {
     "slide_type": "slide"
    }
   },
   "source": [
    "\n",
    "<img src=\"images/dewberry.png\" width=\"15\" align=\"right\">\n",
    "\n",
    "## Jupyter Lab\n",
    "\n",
    "---\n",
    "\n",
    " <center>\n",
    "    <img src=\"images/jupyter_langs.png\" width=\"70%\" align=\"center\">\n",
    "</center>\n",
    "\n",
    "\n",
    "[More on Jupyter](https://www.youtube.com/watch?v=s98IGzlptHw)"
   ]
  },
  {
   "cell_type": "markdown",
   "metadata": {
    "slideshow": {
     "slide_type": "slide"
    }
   },
   "source": [
    "\n",
    "<img src=\"images/dewberry.png\" width=\"15%\" align=\"right\">\n",
    "\n",
    "# [Hurricane Harvey](https://www.citylab.com/environment/2018/10/hurricane-harvey-houston-recovery-aid-federal-funds-fema/573094/):  Hindast\n",
    "\n",
    "---\n",
    "\n",
    "<center>\n",
    "    <img src=\"images/city_lab.png\" width=\"70%\" align=\"center\">\n",
    "</center>"
   ]
  },
  {
   "cell_type": "markdown",
   "metadata": {
    "slideshow": {
     "slide_type": "subslide"
    }
   },
   "source": [
    "\n",
    "<img src=\"images/dewberry.png\" width=\"15%\" align=\"right\">\n",
    "\n",
    "# Hurricane Harvey\n",
    "\n",
    "---\n",
    "\n",
    "### Hydrologic Modelling\n",
    "\n",
    " \n",
    "<img src=\"images/harvey_hydro.png\" width=\"85%\" align=\"center\">\n"
   ]
  },
  {
   "cell_type": "markdown",
   "metadata": {
    "slideshow": {
     "slide_type": "subslide"
    }
   },
   "source": [
    "\n",
    "<img src=\"images/dewberry.png\" width=\"15%\" align=\"right\">\n",
    "\n",
    "# Hurricane Harvey\n",
    "\n",
    "---\n",
    "\n",
    "### Hydraulic Modelling\n",
    "\n",
    " \n",
    "<img src=\"images/harvey_hydro2.png\" width=\"60%\" align=\"center\">"
   ]
  },
  {
   "cell_type": "markdown",
   "metadata": {
    "slideshow": {
     "slide_type": "subslide"
    }
   },
   "source": [
    "\n",
    "<img src=\"images/dewberry.png\" width=\"15%\" align=\"right\">\n",
    "\n",
    "# Hurricane Harvey\n",
    "\n",
    "---\n",
    "\n",
    "### Simulation Manager\n",
    "\n",
    " \n",
    "<img src=\"images/harvey_hydra.png\" width=\"105%\" align=\"center\">"
   ]
  },
  {
   "cell_type": "markdown",
   "metadata": {
    "slideshow": {
     "slide_type": "subslide"
    }
   },
   "source": [
    "\n",
    "<img src=\"images/dewberry.png\" width=\"15%\" align=\"right\">\n",
    "\n",
    "# Hurricane Harvey\n",
    "\n",
    "---\n",
    "\n",
    "### Example Notebooks\n",
    "\n",
    " - [Precipitation](Precipitation.slides.html) (Python, NCEP API) \n",
    " - [Surface Water](Surface_Water.html) (R, USGS API) "
   ]
  },
  {
   "cell_type": "markdown",
   "metadata": {
    "slideshow": {
     "slide_type": "subslide"
    }
   },
   "source": [
    "\n",
    "<img src=\"images/dewberry.png\" width=\"15%\" align=\"right\">\n",
    "\n",
    "# Hurricane Harvey\n",
    "\n",
    "---\n",
    "\n",
    "### Depth Grid & Validation\n",
    "\n",
    " \n",
    "<img src=\"images/harvey_validation.png\" width=\"70%\" align=\"center\">"
   ]
  },
  {
   "cell_type": "markdown",
   "metadata": {
    "slideshow": {
     "slide_type": "subslide"
    }
   },
   "source": [
    "<img src=\"images/dewberry.png\" width=\"15%\" align=\"right\">\n",
    "\n",
    "# Hurricane Harvey\n",
    "\n",
    "\n",
    "---\n",
    "\n",
    "### Validation\n",
    "\n",
    "<img src=\"images/memorial_gessner.mov.gif\" width=\"75%\" align=\"center\">"
   ]
  },
  {
   "cell_type": "markdown",
   "metadata": {
    "slideshow": {
     "slide_type": "slide"
    }
   },
   "source": [
    "\n",
    "<img src=\"images/dewberry.png\" width=\"15%\" align=\"right\">\n",
    "\n",
    "# ADCIRC + SWAN: Production Runs\n",
    "\n",
    "---\n",
    "\n",
    "<img src=\"images/VelocityMag.gif\" width=\"50%\" align=\"right\">\n",
    "<img src=\"images/WaterLevel.gif\" width=\"50%\" align=\"center\">\n",
    "<img src=\"images/AtmosphericPressure.gif\" width=\"50%\" align=\"left\">"
   ]
  },
  {
   "cell_type": "markdown",
   "metadata": {
    "slideshow": {
     "slide_type": "subslide"
    }
   },
   "source": [
    "\n",
    "<img src=\"images/dewberry.png\" width=\"15%\" align=\"right\">\n",
    "\n",
    "# ADCIRC + SWAN: Production Runs\n",
    "\n",
    "---\n",
    "\n",
    "<img src=\"images/whyjupyter.png\" width=\"50%\" align=\"right\">\n",
    "\n",
    "## Notebooks to:\n",
    "\n",
    " 1. Write input files\n",
    " - Validate input files\n",
    " - Prep jobs for execution\n",
    " - Submit jobs to queue\n",
    " - Check job status\n",
    " - Copy results\n",
    " - Create QAQC material\n",
    " - Transfer run files\n",
    " - Clean up work spaces.....\n",
    " \n",
    "### Read more about [Papermill](https://medium.com/netflix-techblog/scheduling-notebooks-348e6c14cfd6)"
   ]
  },
  {
   "cell_type": "markdown",
   "metadata": {
    "slideshow": {
     "slide_type": "subslide"
    }
   },
   "source": [
    "\n",
    "\n",
    "# ADCIRC + SWAN: Production Runs\n",
    "\n",
    "---\n",
    "\n",
    "### *Example Notebook Header*\n",
    "\n",
    "![](images/stampede_manager.png)"
   ]
  },
  {
   "cell_type": "markdown",
   "metadata": {
    "slideshow": {
     "slide_type": "subslide"
    }
   },
   "source": [
    "\n",
    "<img src=\"images/dewberry.png\" width=\"15%\" align=\"right\">\n",
    "\n",
    "# ADCIRC + SWAN: Production Runs\n",
    "\n",
    "---\n",
    "\n",
    "\n",
    " <center>\n",
    "    <img src=\"images/papermill.png\" width=\"90%\" align=\"center\">\n",
    "    <img src=\"images/nc_papermill.png\" width=\"30%\" align=\"center\">\n",
    "</center>"
   ]
  },
  {
   "cell_type": "markdown",
   "metadata": {
    "slideshow": {
     "slide_type": "slide"
    }
   },
   "source": [
    "\n",
    "\n",
    "# Thank You"
   ]
  }
 ],
 "metadata": {
  "celltoolbar": "Slideshow",
  "kernelspec": {
   "display_name": "Python 3.6",
   "language": "python",
   "name": "python3"
  },
  "language_info": {
   "codemirror_mode": {
    "name": "ipython",
    "version": 3
   },
   "file_extension": ".py",
   "mimetype": "text/x-python",
   "name": "python",
   "nbconvert_exporter": "python",
   "pygments_lexer": "ipython3",
   "version": "3.6.4"
  }
 },
 "nbformat": 4,
 "nbformat_minor": 2
}
