{
 "cells": [
  {
   "cell_type": "markdown",
   "metadata": {
    "ExecuteTime": {
     "end_time": "2019-02-04T12:42:31.967645Z",
     "start_time": "2019-02-04T12:42:31.930546Z"
    },
    "slideshow": {
     "slide_type": "slide"
    }
   },
   "source": [
    "# Jupyter Notebooks: The Right Tech at the Right Time\n",
    "### [Coastal Geotools, 2019](https://coastalgeotools.org/)\n",
    "\n",
    " <br>\n",
    "\n",
    "<img src=\"https://upload.wikimedia.org/wikipedia/commons/thumb/3/38/Jupyter_logo.svg/250px-Jupyter_logo.svg.png\" style=\"height:100px\" align = \"center\"> <br>\n",
    "\n",
    "\n",
    "<img src=\"http://expo.arch.vt.edu/storage/logos/dewberry.png?__SQUARESPACE_CACHEVERSION=1422391997962\" align = \"center\"  style=\"height:30px\">\n",
    "<br>\n",
    "\n",
    "\n",
    "\n"
   ]
  },
  {
   "cell_type": "code",
   "execution_count": null,
   "metadata": {
    "slideshow": {
     "slide_type": "slide"
    }
   },
   "outputs": [],
   "source": [
    "def GiveIntro(slides):\n",
    "    for slide in slides:\n",
    "        present+= slide\n",
    "    return slides"
   ]
  },
  {
   "cell_type": "markdown",
   "metadata": {
    "slideshow": {
     "slide_type": "slide"
    }
   },
   "source": [
    "### Hurricane Harvey\n",
    "\n",
    "\n",
    "##### [Hydrologic Forcing](Harvey/HMS_SHG_GridMaker.ipynb)"
   ]
  },
  {
   "cell_type": "markdown",
   "metadata": {
    "slideshow": {
     "slide_type": "slide"
    }
   },
   "source": [
    "### ADCIRC + SWAN \n",
    "\n",
    "##### Production Runs"
   ]
  },
  {
   "cell_type": "markdown",
   "metadata": {
    "slideshow": {
     "slide_type": "slide"
    }
   },
   "source": [
    "# END"
   ]
  }
 ],
 "metadata": {
  "celltoolbar": "Slideshow",
  "kernelspec": {
   "display_name": "Python 3",
   "language": "python",
   "name": "python3"
  },
  "language_info": {
   "codemirror_mode": {
    "name": "ipython",
    "version": 3
   },
   "file_extension": ".py",
   "mimetype": "text/x-python",
   "name": "python",
   "nbconvert_exporter": "python",
   "pygments_lexer": "ipython3",
   "version": "3.6.5"
  }
 },
 "nbformat": 4,
 "nbformat_minor": 2
}
