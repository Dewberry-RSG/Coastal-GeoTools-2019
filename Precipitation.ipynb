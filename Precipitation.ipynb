{
 "cells": [
  {
   "cell_type": "markdown",
   "metadata": {
    "slideshow": {
     "slide_type": "slide"
    }
   },
   "source": [
    "<img src=\"images/dewberry.png\" width=\"15%\" align=\"right\">\n",
    "\n",
    "# GribGrabber \n",
    "\n",
    "### Download & process NexRAD [precipitation grids](https://data.eol.ucar.edu/cgi-bin/codiac/fgr_form/id=21.093) "
   ]
  },
  {
   "cell_type": "code",
   "execution_count": null,
   "metadata": {
    "slideshow": {
     "slide_type": "subslide"
    }
   },
   "outputs": [],
   "source": [
    "from dewberry.watershed_modeling import *"
   ]
  },
  {
   "cell_type": "code",
   "execution_count": null,
   "metadata": {
    "slideshow": {
     "slide_type": "subslide"
    }
   },
   "outputs": [],
   "source": [
    "# Assign data directory\n",
    "data_dir = '/harvey-hindcast/dataHOpOMh'\n",
    "\n",
    "start     = datetime(2017, 8, 15, 0)           # Start Date (Y, m, d, H)\n",
    "stop      = datetime(2017, 9, 15, 0)           # End Date   (Y, m, d, H)\n",
    "interval  = DateOffset(hours=1)                # interval   (hours)\n",
    "\n",
    "daterange = date_range(start, stop - interval ,freq = interval) # Argument (pass to functions below)\n",
    "\n",
    "GetPointFile(daterange, data_dir) # Download Files in gz format"
   ]
  },
  {
   "cell_type": "markdown",
   "metadata": {
    "slideshow": {
     "slide_type": "slide"
    }
   },
   "source": [
    "<img src=\"images/dewberry.png\" width=\"15%\" align=\"right\">\n",
    "\n",
    "### Working with grib files "
   ]
  },
  {
   "cell_type": "code",
   "execution_count": 6,
   "metadata": {
    "slideshow": {
     "slide_type": "subslide"
    }
   },
   "outputs": [
    {
     "name": "stdout",
     "output_type": "stream",
     "text": [
      "Grib file:  /notebooks/dataHOpOMh/ST4.2017082004.01h \n",
      "\n",
      "parametersVersion                  1\n",
      "UseEcmfConventions                 1\n",
      "GRIBEX_boustrophedonic             0\n",
      "hundred                            Array Shape = (2,)\n",
      "globalDomain                       g\n",
      "GRIBEditionNumber                  1\n",
      "eps                                0\n",
      "offsetSection0                     0\n",
      "section0Length                     8\n",
      "totalLength                        884824\n",
      "editionNumber                      1\n",
      "WMO                                0\n",
      "productionStatusOfProcessedData    0\n",
      "section1Length                     28\n",
      "wrongPadding                       0\n",
      "table2Version                      2\n",
      "centre                             kwbc\n",
      "centreDescription                  US National Weather Service - NCEP\n",
      "generatingProcessIdentifier        182\n",
      "gridDefinition                     255\n",
      "indicatorOfParameter               61\n",
      "parameterName                      TP Total precipitation kg m**-2\n",
      "parameterUnits                     unknown\n",
      "indicatorOfTypeOfLevel             sfc\n",
      "pressureUnits                      hPa\n",
      "typeOfLevelECMF                    surface\n",
      "typeOfLevel                        surface\n",
      "level                              0\n",
      "yearOfCentury                      17\n",
      "month                              8\n",
      "day                                20\n",
      "hour                               3\n",
      "minute                             0\n",
      "second                             0\n",
      "unitOfTimeRange                    1\n",
      "P1                                 0\n",
      "P2                                 1\n",
      "timeRangeIndicator                 4\n",
      "numberIncludedInAverage            0\n",
      "numberMissingFromAveragesOrAccumulations0\n",
      "centuryOfReferenceTimeOfData       21\n",
      "subCentre                          4\n",
      "paramIdECMF                        228228\n",
      "paramId                            228228\n",
      "cfNameECMF                         unknown\n",
      "cfName                             unknown\n",
      "cfVarNameECMF                      tp\n",
      "cfVarName                          tp\n",
      "unitsECMF                          kg m**-2\n",
      "units                              kg m**-2\n",
      "nameECMF                           Total Precipitation\n",
      "name                               Total Precipitation\n",
      "decimalScaleFactor                 2\n",
      "setLocalDefinition                 0\n",
      "dataDate                           20170820\n",
      "year                               2017\n",
      "dataTime                           300\n",
      "julianDay                          2457985.625\n",
      "stepUnits                          1\n",
      "stepType                           accum\n",
      "stepRange                          0-1\n",
      "startStep                          0\n",
      "endStep                            1\n",
      "marsParam                          61.2\n",
      "validityDate                       20170820\n",
      "validityTime                       400\n",
      "deleteLocalDefinition              0\n",
      "localUsePresent                    0\n",
      "shortNameECMF                      tp\n",
      "shortName                          tp\n",
      "ifsParam                           228228\n",
      "gridDescriptionSectionPresent      1\n",
      "bitmapPresent                      1\n",
      "angularPrecision                   1000\n",
      "section2Length                     32\n",
      "radius                             6367470\n",
      "numberOfVerticalCoordinateValues   0\n",
      "neitherPresent                     255\n",
      "pvlLocation                        255\n",
      "dataRepresentationType             5\n",
      "gridDefinitionDescription          Polar Stereographic Projection Grid\n",
      "gridDefinitionTemplateNumber       20\n",
      "Nx                                 1121\n",
      "Ny                                 881\n",
      "latitudeOfFirstGridPoint           23117\n",
      "latitudeOfFirstGridPointInDegrees  23.117\n",
      "longitudeOfFirstGridPoint          -119023\n",
      "longitudeOfFirstGridPointInDegrees -119.023\n",
      "resolutionAndComponentFlags        8\n",
      "ijDirectionIncrementGiven          0\n",
      "earthIsOblate                      0\n",
      "resolutionAndComponentFlags3       0\n",
      "resolutionAndComponentFlags4       0\n",
      "uvRelativeToGrid                   1\n",
      "resolutionAndComponentFlags6       0\n",
      "resolutionAndComponentFlags7       0\n",
      "resolutionAndComponentFlags8       0\n",
      "orientationOfTheGrid               -105000\n",
      "orientationOfTheGridInDegrees      -105.0\n",
      "DxInMetres                         4763\n",
      "DyInMetres                         4763\n",
      "latitudeWhereDxAndDyAreSpecifiedInDegrees60\n",
      "LaDInDegrees                       60\n",
      "projectionCentreFlag               0\n",
      "southPoleOnProjectionPlane         0\n",
      "scanningMode                       64\n",
      "iScansNegatively                   0\n",
      "jScansPositively                   1\n",
      "jPointsAreConsecutive              0\n",
      "alternativeRowScanning             0\n",
      "iScansPositively                   1\n",
      "scanningMode4                      0\n",
      "scanningMode5                      0\n",
      "scanningMode6                      0\n",
      "scanningMode7                      0\n",
      "scanningMode8                      0\n",
      "numberOfDataPoints                 987601\n",
      "numberOfValues                     507522\n",
      "PVPresent                          0\n",
      "PLPresent                          0\n",
      "deletePV                           1\n",
      "lengthOfHeaders                    61\n",
      "missingValue                       9999\n",
      "section3Length                     123458\n",
      "numberOfUnusedBitsAtEndOfSection3  15\n",
      "tableReference                     0\n",
      "section4Length                     761294\n",
      "halfByte                           0\n",
      "dataFlag                           0\n",
      "binaryScaleFactor                  0\n",
      "referenceValue                     0.0\n",
      "referenceValueError                5.39760534693e-79\n",
      "sphericalHarmonics                 0\n",
      "complexPacking                     0\n",
      "integerPointValues                 0\n",
      "additionalFlagPresent              0\n",
      "orderOfSPD                         2\n",
      "boustrophedonic                    0\n",
      "hideThis                           0\n",
      "packingType                        grid_simple\n",
      "bitsPerValue                       12\n",
      "constantFieldHalfByte              8\n",
      "bitMapIndicator                    0\n",
      "codedValues                        Array Shape = (507522,)\n",
      "values                             Array Shape = (881, 1121)\n",
      "numberOfCodedValues                507522\n",
      "packingError                       0.005\n",
      "unpackedError                      1.17549435082e-38\n",
      "maximum                            35.25\n",
      "minimum                            0.0\n",
      "average                            0.0550202552796\n",
      "numberOfMissing                    480079\n",
      "standardDeviation                  0.583560504205\n",
      "skewness                           20.2709463528\n",
      "kurtosis                           578.208512417\n",
      "isConstant                         0.0\n",
      "dataLength                         95160\n",
      "changeDecimalPrecision             2\n",
      "decimalPrecision                   2\n",
      "bitsPerValueAndRepack              12\n",
      "scaleValuesBy                      1.0\n",
      "offsetValuesBy                     0.0\n",
      "gridType                           polar_stereographic\n",
      "getNumberOfValues                  987601\n",
      "section5Length                     4\n",
      "---ERROR on analDate\n",
      "---ERROR on validDate\n"
     ]
    }
   ],
   "source": [
    "# Get a list of .gz files\n",
    "grbzipfiles = glob(os.path.join(root_dir, '*.gz'))\n",
    "\n",
    "# Clean up working directory\n",
    "for grbzip in grbzipfiles:\n",
    "    ExtractGrib(grbzip, root_dir) # Unzip\n",
    "    os.remove(grbzip)             # Delete Zip\n",
    "\n",
    "# Print Inventory of file Contents\n",
    "grbs = pygrib.open(grbfile)\n",
    "PrintGribInventory(grbs)"
   ]
  },
  {
   "cell_type": "markdown",
   "metadata": {
    "slideshow": {
     "slide_type": "slide"
    }
   },
   "source": [
    "<img src=\"images/dewberry.png\" width=\"15%\" align=\"right\">\n",
    "\n",
    "### View Time Series\n",
    "\n",
    "<img src=\"images/harvey_precip.mp4.gif\"  width=\"150%\" title=\"this slowpoke moves\" />\n",
    "\n",
    "\n",
    "#### Downscale & Send to HMS\n",
    "\n",
    "[Back to Main](index.slides.html#/6/5)"
   ]
  },
  {
   "cell_type": "code",
   "execution_count": null,
   "metadata": {},
   "outputs": [],
   "source": []
  }
 ],
 "metadata": {
  "celltoolbar": "Slideshow",
  "kernelspec": {
   "display_name": "Python 2.7",
   "language": "python",
   "name": "python2"
  },
  "language_info": {
   "codemirror_mode": {
    "name": "ipython",
    "version": 2
   },
   "file_extension": ".py",
   "mimetype": "text/x-python",
   "name": "python",
   "nbconvert_exporter": "python",
   "pygments_lexer": "ipython2",
   "version": "2.7.14"
  }
 },
 "nbformat": 4,
 "nbformat_minor": 2
}
